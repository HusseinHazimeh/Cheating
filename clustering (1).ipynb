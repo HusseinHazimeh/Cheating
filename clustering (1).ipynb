{
 "cells": [
  {
   "cell_type": "code",
   "execution_count": 15,
   "metadata": {},
   "outputs": [
    {
     "data": {
      "text/plain": [
       "1.2"
      ]
     },
     "execution_count": 15,
     "metadata": {},
     "output_type": "execute_result"
    }
   ],
   "source": [
    "from sklearn.cluster import DBSCAN\n",
    "from sklearn.cluster import KMeans\n",
    "from sklearn.cluster import MeanShift\n",
    "import csv\n",
    "import numpy as np\n",
    "import pandas as pd\n",
    "\n"
   ]
  },
  {
   "cell_type": "code",
   "execution_count": 2,
   "metadata": {},
   "outputs": [
    {
     "name": "stderr",
     "output_type": "stream",
     "text": [
      "c:\\users\\hussein\\appdata\\local\\programs\\python\\python37\\lib\\site-packages\\ipykernel_launcher.py:19: FutureWarning: Method .as_matrix will be removed in a future version. Use .values instead.\n"
     ]
    },
    {
     "data": {
      "text/plain": [
       "array([[ 1,  5,  9, 13],\n",
       "       [ 2,  6,  9, 14],\n",
       "       [ 3,  7, 10, 15],\n",
       "       [ 4,  8, 11, 16],\n",
       "       [ 4,  6, 12, 16],\n",
       "       [ 2,  6, 12, 16],\n",
       "       [ 4,  7, 12, 14],\n",
       "       [ 2,  7, 11, 14],\n",
       "       [ 4,  8, 10, 15],\n",
       "       [ 3,  5, 10, 15],\n",
       "       [ 3,  5, 10, 14],\n",
       "       [ 1,  6, 11, 13],\n",
       "       [ 2,  7, 12, 13],\n",
       "       [ 2,  8, 10, 13],\n",
       "       [ 4,  6, 12, 15],\n",
       "       [ 4,  6,  9, 16],\n",
       "       [ 3,  7,  9, 13],\n",
       "       [ 2,  8, 11, 13],\n",
       "       [ 1,  8, 11, 16],\n",
       "       [ 2,  6, 12, 14],\n",
       "       [ 3,  5,  9, 15],\n",
       "       [ 4,  5,  9, 15],\n",
       "       [ 4,  7, 12, 15],\n",
       "       [ 2,  8, 11, 16],\n",
       "       [ 2,  5, 11, 13],\n",
       "       [ 3,  8, 12, 13],\n",
       "       [ 3,  8,  9, 15],\n",
       "       [ 1,  6, 10, 15],\n",
       "       [ 1,  6, 10, 16],\n",
       "       [ 1,  4, 11, 16],\n",
       "       [ 2,  7, 12, 13],\n",
       "       [ 2,  8,  9, 13],\n",
       "       [ 3,  5, 10, 13],\n",
       "       [ 1,  6, 11, 14],\n",
       "       [ 4,  8, 10, 15],\n",
       "       [ 4,  5, 10, 16],\n",
       "       [50, 20, 30, 40],\n",
       "       [50, 20, 30, 40]], dtype=int64)"
      ]
     },
     "execution_count": 2,
     "metadata": {},
     "output_type": "execute_result"
    }
   ],
   "source": [
    "df = pd.read_excel('C:/Users/Hussein/Documents/cheating.xls')\n",
    "\n",
    "\"\"\"\n",
    "X = np.array([ \n",
    "            [1,2,3,4,0,123311244126673224],\n",
    "            [1,2,3,4,0,599283748348574587],\n",
    "            [1,2,1,2,0,598298745987234987],\n",
    "            [1,2,4,3,1,945689734598745689],\n",
    "            [3,2,4,1,1,232498745987345987],\n",
    "            [3,2,4,1,1,123983459839843589],\n",
    "            [1,2,3,4,0,121398734897584875]\n",
    "            ])\n",
    " \n",
    "\"\"\"\n",
    "training_data = pd.read_excel(\"C:/Users/Hussein/Documents/cheating.xls\")\n",
    " \n",
    "X  = training_data.as_matrix()\n",
    "X"
   ]
  },
  {
   "cell_type": "code",
   "execution_count": 14,
   "metadata": {},
   "outputs": [
    {
     "ename": "IndexError",
     "evalue": "only integers, slices (`:`), ellipsis (`...`), numpy.newaxis (`None`) and integer or boolean arrays are valid indices",
     "output_type": "error",
     "traceback": [
      "\u001b[1;31m---------------------------------------------------------------------------\u001b[0m",
      "\u001b[1;31mIndexError\u001b[0m                                Traceback (most recent call last)",
      "\u001b[1;32m<ipython-input-14-ac36e2b0534a>\u001b[0m in \u001b[0;36m<module>\u001b[1;34m\u001b[0m\n\u001b[0;32m      3\u001b[0m \u001b[0mbandwidth\u001b[0m \u001b[1;33m=\u001b[0m \u001b[0mnp\u001b[0m\u001b[1;33m.\u001b[0m\u001b[0marray\u001b[0m\u001b[1;33m(\u001b[0m\u001b[1;33m[\u001b[0m\u001b[1;36m1.0\u001b[0m\u001b[1;33m,\u001b[0m \u001b[1;36m1.2\u001b[0m\u001b[1;33m,\u001b[0m \u001b[1;36m1.3\u001b[0m\u001b[1;33m,\u001b[0m \u001b[1;36m1.5\u001b[0m\u001b[1;33m,\u001b[0m \u001b[1;36m1.7\u001b[0m\u001b[1;33m,\u001b[0m \u001b[1;36m1.8\u001b[0m\u001b[1;33m,\u001b[0m \u001b[1;36m2.0\u001b[0m\u001b[1;33m]\u001b[0m\u001b[1;33m,\u001b[0m \u001b[0mdtype\u001b[0m\u001b[1;33m=\u001b[0m\u001b[0mfloat\u001b[0m\u001b[1;33m)\u001b[0m\u001b[1;33m\u001b[0m\u001b[1;33m\u001b[0m\u001b[0m\n\u001b[0;32m      4\u001b[0m \u001b[1;32mfor\u001b[0m \u001b[0mi\u001b[0m \u001b[1;32min\u001b[0m \u001b[0mbandwidth\u001b[0m\u001b[1;33m:\u001b[0m\u001b[1;33m\u001b[0m\u001b[1;33m\u001b[0m\u001b[0m\n\u001b[1;32m----> 5\u001b[1;33m     \u001b[0mclustering\u001b[0m \u001b[1;33m=\u001b[0m \u001b[0mMeanShift\u001b[0m\u001b[1;33m(\u001b[0m\u001b[0mbandwidth\u001b[0m \u001b[1;33m=\u001b[0m \u001b[0mbandwidth\u001b[0m\u001b[1;33m[\u001b[0m\u001b[0mi\u001b[0m\u001b[1;33m]\u001b[0m\u001b[1;33m)\u001b[0m\u001b[1;33m.\u001b[0m\u001b[0mfit\u001b[0m\u001b[1;33m(\u001b[0m\u001b[0mX\u001b[0m\u001b[1;33m)\u001b[0m\u001b[1;33m\u001b[0m\u001b[1;33m\u001b[0m\u001b[0m\n\u001b[0m",
      "\u001b[1;31mIndexError\u001b[0m: only integers, slices (`:`), ellipsis (`...`), numpy.newaxis (`None`) and integer or boolean arrays are valid indices"
     ]
    }
   ],
   "source": [
    "#dbscan = DBSCAN(eps =   3, min_samples = 5)\n",
    "#kmeans = KMeans(n_clusters=3, random_state=0).fit(X)\n",
    "bandwidth = np.array([1.0, 1.2, 1.3, 1.5, 1.7, 1.8, 2.0], dtype=float)\n",
    "\n",
    "clustering = []\n",
    "\n",
    "j = 0\n",
    "for i in bandwidth:\n",
    "    \n",
    "    clustering[j] = MeanShift(bandwidth = bandwidth[i]).fit(X)\n",
    "    j = j + 1"
   ]
  },
  {
   "cell_type": "code",
   "execution_count": 55,
   "metadata": {},
   "outputs": [
    {
     "data": {
      "text/plain": [
       "array([0, 0, 1, 1, 2, 2, 2, 0, 1, 0, 0, 0, 3, 3, 2, 1, 3, 3, 5, 0, 0, 0,\n",
       "       2, 5, 0, 3, 1, 0, 6, 6, 3, 3, 0, 0, 1, 2, 4, 4], dtype=int64)"
      ]
     },
     "execution_count": 55,
     "metadata": {},
     "output_type": "execute_result"
    }
   ],
   "source": [
    "#model = dbscan.fit(X)\n",
    "#kmeans.labels_\n",
    "clustering.labels_"
   ]
  },
  {
   "cell_type": "code",
   "execution_count": 150,
   "metadata": {},
   "outputs": [
    {
     "data": {
      "text/plain": [
       "array([4], dtype=int64)"
      ]
     },
     "execution_count": 150,
     "metadata": {},
     "output_type": "execute_result"
    }
   ],
   "source": [
    "#print(model.labels_)\n",
    "clustering.predict([[50, 20, 30, 40]])"
   ]
  },
  {
   "cell_type": "code",
   "execution_count": null,
   "metadata": {},
   "outputs": [],
   "source": []
  }
 ],
 "metadata": {
  "kernelspec": {
   "display_name": "Python 3",
   "language": "python",
   "name": "python3"
  },
  "language_info": {
   "codemirror_mode": {
    "name": "ipython",
    "version": 3
   },
   "file_extension": ".py",
   "mimetype": "text/x-python",
   "name": "python",
   "nbconvert_exporter": "python",
   "pygments_lexer": "ipython3",
   "version": "3.7.4"
  }
 },
 "nbformat": 4,
 "nbformat_minor": 2
}
